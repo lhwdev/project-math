{
 "cells": [
  {
   "cell_type": "code",
   "execution_count": 41,
   "metadata": {},
   "outputs": [],
   "source": [
    "from main import *\n",
    "from IPython.display import display, Math\n",
    "\n",
    "def renderEvaluate(expr):\n",
    "    display(Math(f'{expr.latex()}={expr.evaluate()}'.replace('+ -', '-').replace('^1', '').replace('1x', 'x')))"
   ]
  },
  {
   "cell_type": "code",
   "execution_count": 42,
   "metadata": {},
   "outputs": [
    {
     "name": "stdout",
     "output_type": "stream",
     "text": [
      "0 / 0\n",
      "3.0 / 2.0\n"
     ]
    },
    {
     "data": {
      "text/latex": "$\\displaystyle \\lim_{x \\to 0} \\frac{5x^2 + 3x}{2x}=1.5$",
      "text/plain": "<IPython.core.display.Math object>"
     },
     "metadata": {},
     "output_type": "display_data"
    }
   ],
   "source": [
    "renderEvaluate(\n",
    "  Limit(\n",
    "    symbol='x', # x가\n",
    "    approachTo=0, # 0으로 다가갈 때\n",
    "    value=Fraction( # 분수\n",
    "        numerator=Polynomial(terms=[Term(5, 'x', 2), Term(3, 'x', 1)]), # 분자 5x^2 + 3x\n",
    "        denominator=Polynomial(terms=[Term(2, 'x', 1)]) # 분모 2x\n",
    "    )\n",
    "  ) # 의 극한값\n",
    ")"
   ]
  },
  {
   "cell_type": "code",
   "execution_count": 43,
   "metadata": {},
   "outputs": [
    {
     "name": "stdout",
     "output_type": "stream",
     "text": [
      "0 / 0\n",
      "1.0 / 1.0\n"
     ]
    },
    {
     "data": {
      "text/latex": "$\\displaystyle \\lim_{x \\to 2} \\frac{3x^2 -1x + 10}{x -2}=1.0$",
      "text/plain": "<IPython.core.display.Math object>"
     },
     "metadata": {},
     "output_type": "display_data"
    }
   ],
   "source": [
    "renderEvaluate(\n",
    "  Limit(\n",
    "    symbol='x',\n",
    "    approachTo=2,\n",
    "    value=Fraction(\n",
    "        numerator=Polynomial(\n",
    "            terms=[Term(3, 'x', 2), Term(-11, 'x', 1), Term(10, 'x', 0)]),\n",
    "        denominator=Polynomial(terms=[Term(1, 'x', 1), Term(-2, 'x', 0)])\n",
    "    )\n",
    "  )\n",
    ")\n"
   ]
  },
  {
   "cell_type": "code",
   "execution_count": 46,
   "metadata": {},
   "outputs": [
    {
     "name": "stdout",
     "output_type": "stream",
     "text": [
      "0 / 0\n",
      "6.0 / 2.0\n"
     ]
    },
    {
     "data": {
      "text/latex": "$\\displaystyle \\lim_{x \\to 0} \\frac{5x^2 + 6x}{-3x^2 + 2x}=3.0$",
      "text/plain": "<IPython.core.display.Math object>"
     },
     "metadata": {},
     "output_type": "display_data"
    }
   ],
   "source": [
    "renderEvaluate(\n",
    "    Limit(\n",
    "        symbol='x',\n",
    "        approachTo=0,\n",
    "        value=Fraction(\n",
    "            numerator=Polynomial(\n",
    "                terms=[Term(6, 'x', 1), Term(5, 'x', 2)]),\n",
    "            denominator=Polynomial(terms=[Term(2, 'x', 1), Term(-3, 'x', 2)])\n",
    "        )\n",
    "    )\n",
    ")\n"
   ]
  },
  {
   "cell_type": "code",
   "execution_count": 47,
   "metadata": {},
   "outputs": [
    {
     "name": "stdout",
     "output_type": "stream",
     "text": [
      "0 / 0\n",
      "-7.0 / 8.0\n"
     ]
    },
    {
     "data": {
      "text/latex": "$\\displaystyle \\lim_{x \\to -3} \\frac{2x^2 + 5x -3}{x^3 + 3x^2 -x -3}=-0.875$",
      "text/plain": "<IPython.core.display.Math object>"
     },
     "metadata": {},
     "output_type": "display_data"
    }
   ],
   "source": [
    "renderEvaluate(\n",
    "    Limit(\n",
    "        symbol='x',\n",
    "        approachTo=-3,\n",
    "        value=Fraction(\n",
    "            numerator=Polynomial(\n",
    "                terms=[Term(2, 'x', 2), Term(5, 'x', 1), Term(-3, 'x', 0)]),\n",
    "            denominator=Polynomial(terms=[Term(1, 'x', 3), Term(3, 'x', 2), Term(-1, 'x', 1), Term(-3, 'x', 0)])\n",
    "        )\n",
    "    )\n",
    ")\n"
   ]
  }
 ],
 "metadata": {
  "kernelspec": {
   "display_name": "Python 3.8.6 64-bit",
   "name": "python386jvsc74a57bd0d9af2e32a5ad6e5c5f98229481d7f4ca3d60c1f6ad52fd9ba4da285d14500705"
  },
  "language_info": {
   "codemirror_mode": {
    "name": "ipython",
    "version": 3
   },
   "file_extension": ".py",
   "mimetype": "text/x-python",
   "name": "python",
   "nbconvert_exporter": "python",
   "pygments_lexer": "ipython3",
   "version": "3.8.6"
  },
  "metadata": {
   "interpreter": {
    "hash": "d9af2e32a5ad6e5c5f98229481d7f4ca3d60c1f6ad52fd9ba4da285d14500705"
   }
  },
  "orig_nbformat": 2
 },
 "nbformat": 4,
 "nbformat_minor": 2
}